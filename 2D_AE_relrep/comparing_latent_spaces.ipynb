{
 "cells": [
  {
   "cell_type": "code",
   "execution_count": null,
   "metadata": {},
   "outputs": [],
   "source": [
    "def compare_latent_spaces(embeddings1, embeddings2):\n",
    "    \"\"\"\n",
    "    Computes the Mean Reciprocal Rank (MRR) and average cosine similarity between two sets of embeddings.\n",
    "    \n",
    "    Assumptions:\n",
    "      - embeddings1 and embeddings2 are Tensors of shape (N, d)\n",
    "      - The \"correct\" match for embeddings1[i] is embeddings2[i]\n",
    "    \n",
    "    Args:\n",
    "        embeddings1 (Tensor): First set of embeddings, shape (N, d).\n",
    "        embeddings2 (Tensor): Second set of embeddings, shape (N, d).\n",
    "    \n",
    "    Returns:\n",
    "        mrr (float): Mean Reciprocal Rank over all queries.\n",
    "        mean_cos_sim (float): Mean cosine similarity computed elementwise.\n",
    "    \"\"\"\n",
    "\n",
    "    # Compute cosine similarity bewteen "
   ]
  }
 ],
 "metadata": {
  "language_info": {
   "name": "python"
  }
 },
 "nbformat": 4,
 "nbformat_minor": 2
}
