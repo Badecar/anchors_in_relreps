{
 "cells": [
  {
   "cell_type": "code",
   "execution_count": 1,
   "id": "e8c8a26e",
   "metadata": {},
   "outputs": [
    {
     "name": "stderr",
     "output_type": "stream",
     "text": [
      "WARNING: Ignoring invalid distribution ~cipy (C:\\Users\\oscar\\anaconda3\\envs\\venv\\Lib\\site-packages)\n",
      "WARNING: Ignoring invalid distribution ~cipy (C:\\Users\\oscar\\anaconda3\\envs\\venv\\Lib\\site-packages)\n",
      "WARNING: Ignoring invalid distribution ~cipy (C:\\Users\\oscar\\anaconda3\\envs\\venv\\Lib\\site-packages)\n",
      "'wget' is not recognized as an internal or external command,\n",
      "operable program or batch file.\n"
     ]
    },
    {
     "data": {
      "text/plain": [
       "1"
      ]
     },
     "execution_count": 1,
     "metadata": {},
     "output_type": "execute_result"
    }
   ],
   "source": [
    "import os\n",
    "# 1. Install img2dataset if not already installed\n",
    "!pip install -q img2dataset\n",
    "\n",
    "# 2. Download the metadata file for the chosen LAION subset.\n",
    "# For LAION-Art (8M high-aesthetic images), the metadata is a single Parquet file on HuggingFace.\n",
    "metadata_url = \"https://huggingface.co/datasets/laion/laion-art/resolve/main/laion-art.parquet\"\n",
    "!wget -q {metadata_url} -O laion-art.parquet\n",
    "\n",
    "# 3. Use img2dataset to download images and captions from the metadata.\n",
    "os.system(\n",
    "    \"img2dataset --url_list=laion-art.parquet --input_format=parquet \"\n",
    "    \"--url_col=URL --caption_col=TEXT \"\n",
    "    \"--output_format=webdataset --output_folder=laion_subset_data \"\n",
    "    \"--processes_count=8 --thread_count=32 --image_size=256 \"\n",
    "    \"--resize_only_if_bigger=True --resize_mode=keep_ratio --skip_reencode=True \"\n",
    "    \"--save_additional_columns '[\\\"similarity\\\",\\\"punsafe\\\",\\\"pwatermark\\\",\\\"aesthetic\\\"]'\"\n",
    ")\n"
   ]
  }
 ],
 "metadata": {
  "kernelspec": {
   "display_name": "venv",
   "language": "python",
   "name": "python3"
  },
  "language_info": {
   "codemirror_mode": {
    "name": "ipython",
    "version": 3
   },
   "file_extension": ".py",
   "mimetype": "text/x-python",
   "name": "python",
   "nbconvert_exporter": "python",
   "pygments_lexer": "ipython3",
   "version": "3.12.7"
  }
 },
 "nbformat": 4,
 "nbformat_minor": 5
}
