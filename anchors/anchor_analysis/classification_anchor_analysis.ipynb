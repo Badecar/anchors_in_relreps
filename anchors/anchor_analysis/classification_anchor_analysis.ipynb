{
 "cells": [
  {
   "cell_type": "code",
   "execution_count": null,
   "metadata": {},
   "outputs": [],
   "source": [
    "import timm\n",
    "\n",
    "ENCODERS = (\n",
    "    \"vit_base_patch16_224\",\n",
    "    \"rexnet_100\",\n",
    "    \"vit_base_patch16_384\",\n",
    "    \"vit_small_patch16_224\",\n",
    "    \"vit_base_resnet50_384\",\n",
    ")"
   ]
  },
  {
   "cell_type": "code",
   "execution_count": null,
   "metadata": {},
   "outputs": [],
   "source": []
  }
 ],
 "metadata": {
  "language_info": {
   "name": "python"
  }
 },
 "nbformat": 4,
 "nbformat_minor": 2
}
